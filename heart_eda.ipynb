{
 "cells": [
  {
   "cell_type": "code",
   "execution_count": 1,
   "id": "a08e8d89",
   "metadata": {},
   "outputs": [],
   "source": [
    "import pandas as pd\n",
    "import numpy as np\n",
    "import matplotlib.pyplot as plt\n",
    "import seaborn as sns"
   ]
  },
  {
   "cell_type": "code",
   "execution_count": null,
   "id": "e2248d4e",
   "metadata": {},
   "outputs": [],
   "source": [
    "pd.set_option('display.max_columns', None)\n",
    "pd.set_option('display.width', 1000)     \n",
    "\n",
    "sns.set_style(\"whitegrid\")\n",
    "\n",
    "try:\n",
    "    df = pd.read_csv(r'C:\\Users\\chand\\OneDrive\\Desktop\\pjt_datasets\\heart_failure_clinical_records_dataset.csv')\n",
    "    print(\"Dataset loaded successfully!\")\n",
    "except FileNotFoundError:\n",
    "    print(\"Error: 'your_dataset.csv' not found. Please check the file path.\")\n",
    "print(\"First 5 rows of the dataset:\")\n",
    "print(df.head())\n",
    "\n",
    "print(\"\\nDataset Info:\")\n",
    "df.info()\n",
    "\n",
    "print(\"\\nDataset Shape:\")\n",
    "print(df.shape)\n",
    "\n",
    "print(\"\\nDescriptive Statistics:\")\n",
    "print(df.describe())\n",
    "\n",
    "print(\"\\nMissing Values:\")\n",
    "print(df.isnull().sum())"
   ]
  },
  {
   "cell_type": "code",
   "execution_count": 3,
   "id": "89bfc97b",
   "metadata": {},
   "outputs": [
    {
     "name": "stdout",
     "output_type": "stream",
     "text": [
      "\n",
      "--- Duplicate Rows Check ---\n",
      "Number of duplicate rows found: 0\n"
     ]
    }
   ],
   "source": [
    "print(\"\\n--- Duplicate Rows Check ---\")\n",
    "print(f\"Number of duplicate rows found: {df.duplicated().sum()}\")\n",
    "if df.duplicated().sum() > 0:\n",
    "    df.drop_duplicates(inplace=True)\n",
    "    print(f\"Shape after dropping duplicates: {df.shape}\")"
   ]
  },
  {
   "cell_type": "code",
   "execution_count": null,
   "id": "0426a7e1",
   "metadata": {},
   "outputs": [],
   "source": [
    "print(\"\\n--- Distribution of DEATH_EVENT ---\")\n",
    "print(df['DEATH_EVENT'].value_counts())\n",
    "print(\"\\nProportion of DEATH_EVENT:\")\n",
    "print(df['DEATH_EVENT'].value_counts(normalize=True))\n",
    "\n",
    "plt.figure(figsize=(7, 5))\n",
    "sns.countplot(x='DEATH_EVENT', data=df, palette='viridis', hue='DEATH_EVENT', legend=False)\n",
    "plt.title('Distribution of DEATH_EVENT (0=Survived, 1=Died)')\n",
    "plt.xlabel('DEATH_EVENT')\n",
    "plt.ylabel('Count')\n",
    "plt.xticks(ticks=[0, 1], labels=['Survived', 'Died'])\n",
    "plt.show()"
   ]
  },
  {
   "cell_type": "code",
   "execution_count": null,
   "id": "cc739d1b",
   "metadata": {},
   "outputs": [],
   "source": [
    "binary_cols = ['sex', 'anaemia', 'diabetes', 'high_blood_pressure', 'smoking']\n",
    "for col in binary_cols:\n",
    "    print(f\"\\n--- Distribution of {col.replace('_', ' ').title()} ---\")\n",
    "    print(df[col].value_counts())\n",
    "    print(df[col].value_counts(normalize=True))\n",
    "\n",
    "    plt.figure(figsize=(7, 5))\n",
    "    sns.countplot(x=col, data=df, palette='cividis', hue=col, legend=False)\n",
    "    plt.title(f'Distribution of {col.replace(\"_\", \" \").title()}')\n",
    "    plt.xlabel(col.replace('_', ' ').title())\n",
    "    plt.ylabel('Count')\n",
    "    if col == 'sex':\n",
    "        plt.xticks(ticks=[0, 1], labels=['Female', 'Male'])\n",
    "    elif col in ['anaemia', 'diabetes', 'high_blood_pressure', 'smoking']:\n",
    "        plt.xticks(ticks=[0, 1], labels=['No', 'Yes'])\n",
    "    plt.show()"
   ]
  },
  {
   "cell_type": "code",
   "execution_count": null,
   "id": "df82c9d6",
   "metadata": {},
   "outputs": [],
   "source": [
    "numerical_cols = [\n",
    "    'age', 'creatinine_phosphokinase', 'ejection_fraction',\n",
    "    'platelets', 'serum_creatinine', 'serum_sodium', 'time'\n",
    "]\n",
    "for col in numerical_cols:\n",
    "    print(f\"\\n--- Distribution of {col.replace('_', ' ').title()} ---\")\n",
    "    print(df[col].describe())\n",
    "\n",
    "    plt.figure(figsize=(10, 6))\n",
    "    sns.histplot(df[col], kde=True, bins=30)\n",
    "    plt.title(f'Distribution of {col.replace(\"_\", \" \").title()}')\n",
    "    plt.xlabel(f'{col.replace(\"_\", \" \").title()}')\n",
    "    plt.ylabel('Count')\n",
    "    plt.show()\n",
    "\n",
    "    plt.figure(figsize=(10, 2))\n",
    "    sns.boxplot(x=df[col])\n",
    "    plt.title(f'Box Plot of {col.replace(\"_\", \" \").title()}')\n",
    "    plt.xlabel(f'{col.replace(\"_\", \" \").title()}')\n",
    "    plt.show()"
   ]
  },
  {
   "cell_type": "code",
   "execution_count": null,
   "id": "f3d2085c",
   "metadata": {},
   "outputs": [],
   "source": [
    "print(\"\\n--- Correlation Matrix of All Features ---\")\n",
    "correlation_matrix = df.corr()\n",
    "plt.figure(figsize=(12, 10))\n",
    "sns.heatmap(correlation_matrix, annot=True, cmap='coolwarm', fmt=\".2f\", linewidths=.5)\n",
    "plt.title('Correlation Matrix of All Features')\n",
    "plt.show()\n",
    "\n",
    "print(\"\\n--- Numerical Features vs. DEATH_EVENT (Box Plots) ---\")\n",
    "numerical_features_for_comparison = [\n",
    "    'age', 'creatinine_phosphokinase', 'ejection_fraction',\n",
    "    'platelets', 'serum_creatinine', 'serum_sodium'\n",
    "]\n"
   ]
  },
  {
   "cell_type": "code",
   "execution_count": null,
   "id": "4605ef2f",
   "metadata": {},
   "outputs": [],
   "source": [
    "\n",
    "plt.figure(figsize=(15, 12))\n",
    "for i, col in enumerate(numerical_features_for_comparison):\n",
    "    plt.subplot(3, 2, i + 1)\n",
    "    sns.boxplot(x='DEATH_EVENT', y=col, data=df, palette='viridis')\n",
    "    plt.title(f'{col.replace(\"_\", \" \").title()} by Death Event')\n",
    "    plt.xlabel('Death Event')\n",
    "    plt.ylabel(f'{col.replace(\"_\", \" \").title()}')\n",
    "    plt.xticks(ticks=[0, 1], labels=['Survived', 'Died'])\n",
    "plt.tight_layout()\n",
    "plt.show()\n",
    "\n",
    "plt.figure(figsize=(8, 6))\n",
    "sns.boxplot(x='DEATH_EVENT', y='time', data=df, palette='viridis')\n",
    "plt.title('Time (Follow-up) by Death Event')\n",
    "plt.xlabel('Death Event')\n",
    "plt.ylabel('Time (Days)')\n",
    "plt.xticks(ticks=[0, 1], labels=['Survived', 'Died'])\n",
    "plt.show()"
   ]
  },
  {
   "cell_type": "code",
   "execution_count": null,
   "id": "a21911b2",
   "metadata": {},
   "outputs": [],
   "source": [
    "print(\"\\n--- Categorical/Binary Features vs. DEATH_EVENT (Stacked Bar Charts) ---\")\n",
    "binary_features_for_comparison = ['sex', 'anaemia', 'diabetes', 'high_blood_pressure', 'smoking']\n",
    "\n",
    "plt.figure(figsize=(15, 12))\n",
    "for i, col in enumerate(binary_features_for_comparison):\n",
    "    crosstab_norm = pd.crosstab(df[col], df['DEATH_EVENT'], normalize='index') * 100\n",
    "\n",
    "    plt.subplot(3, 2, i + 1)\n",
    "    crosstab_norm.plot(kind='bar', stacked=True, ax=plt.gca(), cmap='coolwarm')\n",
    "    plt.title(f'Death Event Proportion by {col.replace(\"_\", \" \").title()}')\n",
    "    plt.xlabel(col.replace('_', ' ').title())\n",
    "    plt.ylabel('Proportion (%)')\n",
    "    if col == 'sex':\n",
    "        plt.xticks(ticks=[0, 1], labels=['Female', 'Male'], rotation=0)\n",
    "    elif col in ['anaemia', 'diabetes', 'high_blood_pressure', 'smoking']:\n",
    "        plt.xticks(ticks=[0, 1], labels=['No', 'Yes'], rotation=0)\n",
    "    plt.legend(title='Death Event', labels=['Survived', 'Died'])\n",
    "plt.tight_layout()\n",
    "plt.show()\n"
   ]
  },
  {
   "cell_type": "code",
   "execution_count": null,
   "id": "876a1b08",
   "metadata": {},
   "outputs": [],
   "source": [
    "print(\"\\n--- Multivariate Plots ---\")\n",
    "\n",
    "sns.relplot(x='ejection_fraction', y='serum_creatinine', hue='DEATH_EVENT', col='high_blood_pressure', data=df, kind='scatter', palette='coolwarm')\n",
    "plt.suptitle('Ejection Fraction vs. Serum Creatinine by Death Event & High Blood Pressure', y=1.02)\n",
    "plt.show()\n",
    "\n",
    "sns.relplot(x='time', y='age', hue='DEATH_EVENT', col='smoking', data=df, kind='scatter', palette='viridis')\n",
    "plt.suptitle('Age vs. Time by Death Event & Smoking Status', y=1.02)\n",
    "plt.show()\n",
    "\n",
    "print(\"\\nAnalysis Done. Proceed to documenting observations and insights in Markdown cells.\")"
   ]
  }
 ],
 "metadata": {
  "kernelspec": {
   "display_name": "venv",
   "language": "python",
   "name": "python3"
  },
  "language_info": {
   "codemirror_mode": {
    "name": "ipython",
    "version": 3
   },
   "file_extension": ".py",
   "mimetype": "text/x-python",
   "name": "python",
   "nbconvert_exporter": "python",
   "pygments_lexer": "ipython3",
   "version": "3.13.5"
  }
 },
 "nbformat": 4,
 "nbformat_minor": 5
}
